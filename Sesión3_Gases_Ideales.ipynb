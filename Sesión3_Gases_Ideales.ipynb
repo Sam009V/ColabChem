{
  "nbformat": 4,
  "nbformat_minor": 0,
  "metadata": {
    "colab": {
      "name": "Sesión3. Gases_Ideales.ipynb",
      "provenance": [],
      "collapsed_sections": [],
      "authorship_tag": "ABX9TyMdXIcMDl6m/HfTEYZF1IJu",
      "include_colab_link": true
    },
    "kernelspec": {
      "name": "python3",
      "display_name": "Python 3"
    },
    "language_info": {
      "name": "python"
    }
  },
  "cells": [
    {
      "cell_type": "markdown",
      "metadata": {
        "id": "view-in-github",
        "colab_type": "text"
      },
      "source": [
        "<a href=\"https://colab.research.google.com/github/wavallejol/ColabChem/blob/main/Sesi%C3%B3n3_Gases_Ideales.ipynb\" target=\"_parent\"><img src=\"https://colab.research.google.com/assets/colab-badge.svg\" alt=\"Open In Colab\"/></a>"
      ]
    },
    {
      "cell_type": "markdown",
      "metadata": {
        "id": "_KFNBX1kPBvV"
      },
      "source": [
        "# **Sesión 3. Gases Ideales**\n",
        "***William Vallejo***\n",
        "# **Objetivos**\n",
        " \n",
        " \n",
        "1.   Representar comportamiento de gases ideales utilizando Google Colabs\n",
        "2.   Resolver ejercicios de propiedades de gases ideales utilizando Google Colabs\n",
        "---"
      ]
    },
    {
      "cell_type": "markdown",
      "metadata": {
        "id": "4f2sRuCkQsof"
      },
      "source": [
        " \n",
        "# ***Actividad 1***\n",
        " \n",
        "Se te pide que obtener una gráfica 📈 de la presión en función del inverso del volúmen para un mol de gas, a tres temperaturas diferentes (298 K, 798 K, 1298 k), utilizando la ecuación de los gases ideales:\n",
        "$\\small P=nRT(\\frac{1}{V})$\n",
        ". Se te pide graficar las tres curvas en la misma gráfica.\n",
        " \n",
        "Lo primero que  haremos será importar las bibliotecas que utilizarémos: (i) `math`, (ii) `numpy`, (iii)  <a href=\"https://es.m.wikipedia.org/wiki/Matplotlib\">matplolib.pyplot</a>. \n",
        "La biblioteca `matplotlib.pyplot` permite la generación de gráficas a partir de datos contenidos en listas o matrices en el lenguaje de programación de phyton. Oprime clic en el icono de ▶️ en la siguiente celda de código"
      ]
    },
    {
      "cell_type": "code",
      "metadata": {
        "id": "OydoO284Q3yM"
      },
      "source": [
        "import math\n",
        "import numpy as np\n",
        "import matplotlib.pyplot as plt\n",
        "%matplotlib inline"
      ],
      "execution_count": null,
      "outputs": []
    },
    {
      "cell_type": "markdown",
      "metadata": {
        "id": "VA_5jTZMQ_Jw"
      },
      "source": [
        "Ahora definiremos: (i) la matriz de datos del volúmen con la función `np.arage()`, (ii) la ecuación de la presión a cada temperatura y (iii) algunos parámetros para la presentación de la gráfica utilizando la función `plt.plot()`. Oprime clic en el ícono de ▶️ en la siguiente celda de código"
      ]
    },
    {
      "cell_type": "code",
      "metadata": {
        "colab": {
          "base_uri": "https://localhost:8080/",
          "height": 265
        },
        "id": "G436lg0mRCtM",
        "outputId": "53ad670d-f8e9-483a-9fe7-6c96c9ce08a5"
      },
      "source": [
        "v= np.arange(0.1, 4, 0.1)\n",
        "p=(0.5*0.08206*298)/v\n",
        "plt.plot(1/v, p)\n",
        "plt.show ()"
      ],
      "execution_count": null,
      "outputs": [
        {
          "output_type": "display_data",
          "data": {
            "image/png": "[encoded data removed]",
            "text/plain": [
              "<Figure size 432x288 with 1 Axes>"
            ]
          },
          "metadata": {
            "tags": [],
            "needs_background": "light"
          }
        }
      ]
    },
    {
      "cell_type": "markdown",
      "metadata": {
        "id": "MwD19uwvRjlu"
      },
      "source": [
        "Bien, tenemos la gráfica pero no hemos nombrado los ejes, ahora incluiremos esta información. Oprime clic en el icono de ▶️ en la siguiente celda de código"
      ]
    },
    {
      "cell_type": "code",
      "metadata": {
        "colab": {
          "base_uri": "https://localhost:8080/",
          "height": 279
        },
        "id": "d5iKFu9PRmIV",
        "outputId": "3a99e179-7f7e-4027-d258-c4b492c11036"
      },
      "source": [
        "v= np.arange(0.1, 4, 0.1)\n",
        "p=(0.5*0.08206*298)/v\n",
        "plt.plot(1/v, p, label=\"298K\")\n",
        "plt.legend()\n",
        "plt.ylabel(\"Presión (atm)\")\n",
        "plt.xlabel(\"1/V (1/L)\")\n",
        "plt.show ()"
      ],
      "execution_count": null,
      "outputs": [
        {
          "output_type": "display_data",
          "data": {
            "image/png": "[encoded data removed]",
            "text/plain": [
              "<Figure size 432x288 with 1 Axes>"
            ]
          },
          "metadata": {
            "tags": [],
            "needs_background": "light"
          }
        }
      ]
    },
    {
      "cell_type": "markdown",
      "metadata": {
        "id": "C7801xWnRrey"
      },
      "source": [
        "En la siguiente línea de código escribe la rutina completa para que aparezcan las curvas de $\\small P vs(\\frac{1}{V})$ a las tres temperaturas en la misma gráfica."
      ]
    },
    {
      "cell_type": "code",
      "metadata": {
        "id": "g4T6ts6hRs8F"
      },
      "source": [
        ""
      ],
      "execution_count": null,
      "outputs": []
    },
    {
      "cell_type": "markdown",
      "metadata": {
        "id": "hbAwFbBVS3WR"
      },
      "source": [
        "#**Actividad 2**\n",
        "Se determinó la variación del volumen en función de la temperatura de un mol de $\\small H_{2(g)}$ a presión constante (1 atm). Los datos se listan en la tabla 1. Con la información suministrada determina la temperatura a la cual el volumen del gas es cero ($\\small 0$). \n",
        " \n",
        "Tabla 1. Volumen de $\\small H_{2(g)}$ en función de la temperatura a 1 atm de presión.\n",
        " \n",
        "Temperatura ($^{o}C$)| Volumen ($L$)\n",
        "-------------------|------------------\n",
        "-40 | 19.1482 \n",
        "-20 | 20.7908\n",
        " 0  | 22.4334 \n",
        " 20 | 24.0760\n",
        " 40 | 25.7186\n",
        " 60 | 27.3612\n",
        " 80 | 29.0048\n",
        " \n",
        "Para responder esta pregunta, lo primero que haremos en la siguiente línea de código es importar las librerias que usarémos: `math`, `numpy` ,  `matplotlib.pyplot` y `scipy.stats`"
      ]
    },
    {
      "cell_type": "code",
      "metadata": {
        "id": "nyl1I0QhTDDs"
      },
      "source": [
        ""
      ],
      "execution_count": null,
      "outputs": []
    },
    {
      "cell_type": "markdown",
      "metadata": {
        "id": "Csf-qfWTTEoN"
      },
      "source": [
        "Ahora crea las dos  matrices para la serie de datos  y escribe la rutina para obtener la gráfica."
      ]
    },
    {
      "cell_type": "code",
      "metadata": {
        "id": "xZQ3cfy7TN5O"
      },
      "source": [
        ""
      ],
      "execution_count": null,
      "outputs": []
    },
    {
      "cell_type": "markdown",
      "metadata": {
        "id": "M1WHKnRVTR69"
      },
      "source": [
        "Ahora escribe la rutina para obtener la regresión lineal utilizando la función `linregress()`"
      ]
    },
    {
      "cell_type": "code",
      "metadata": {
        "id": "YANHG5P-TTN1"
      },
      "source": [
        ""
      ],
      "execution_count": null,
      "outputs": []
    },
    {
      "cell_type": "markdown",
      "metadata": {
        "id": "J2Y88bsdTgc2"
      },
      "source": [
        "A patir de la ecuación de la recta que acabas de obtener, después de igualar y=0, podrás encontrar la respuesta del ejercicio. Escribe la rutina para despejar el valor de la temperatura 👊."
      ]
    },
    {
      "cell_type": "code",
      "metadata": {
        "id": "UIBTMCvsT6rf"
      },
      "source": [
        ""
      ],
      "execution_count": null,
      "outputs": []
    },
    {
      "cell_type": "markdown",
      "metadata": {
        "id": "AGXm_K-BRxEm"
      },
      "source": [
        "---\n",
        "# ***Actividad 3***\n",
        "El <a href=\"https://es.m.wikipedia.org/wiki/Factor_de_compresibilidad#:~:text=El%20factor%20de%20compresibilidad%20(Z,comportamiento%20de%20un%20gas%20real.\"> factor de compresibilidad</a>.  ($\\small Z$) del etano está representado por la ecuación $\\small Z=1+BP+CP^2+DP^3$  donde P representa la presión en atmosferas y B, C, D son constantes que dependen de la temperatura según la información que se detalla en la tabla 2.\n",
        " \n",
        "Tabla 2. Valores de las constantes B, C, D en función de la temperatura.\n",
        " \n",
        "Temperatura ($K$)| B| C| D\n",
        "-------------------|------------------|------------------|------------------\n",
        "100 | $\\small -5.74x10^{-3}$ | $\\small 6.86x10^{-6}$ | $\\small 1.8x10^{-8}$ | \n",
        "1100 | $\\small 1.8x10^{-4}$ | $\\small 2.75x10^{-7}$ | $\\small 1.44x10^{-10}$\n",
        " \n",
        "Con los datos suministrados, en la siguiente linea de código escribe una rutina que te permita obtener la gráfica de $\\small Z  vs P$ para las dos temperaturas mostradas en la tabla 2,  en un rango de presiones de ($\\small 0 -1000 atm$). Explica las diferencias entre las dos curvas obtenidas.\n",
        " \n",
        "Lo primero que haremos será importar las librerias que utilizaremos: `math`, `numpy` y `matplotlib.pyplot`"
      ]
    },
    {
      "cell_type": "code",
      "metadata": {
        "id": "_YDWYyB0VUQr"
      },
      "source": [
        ""
      ],
      "execution_count": null,
      "outputs": []
    },
    {
      "cell_type": "markdown",
      "metadata": {
        "id": "KjcXFo0DV5mA"
      },
      "source": [
        "En la siguiente celda de codigo escribe la rutina para: (i) la matriz de datos para los valores de presión con la función `np.arage()`, (ii) las dos ecuaciones de $\\small Z(P)$ a cada temperatura y (iii) los parámetros para la presentación de la gráfica utilizando la función `plt`"
      ]
    },
    {
      "cell_type": "code",
      "metadata": {
        "id": "hSd9XiCHX3_7"
      },
      "source": [
        ""
      ],
      "execution_count": null,
      "outputs": []
    },
    {
      "cell_type": "markdown",
      "metadata": {
        "id": "tzphosgIUjBZ"
      },
      "source": [
        "---\n",
        " \n",
        "# ***Actividad 4***\n",
        "La ecuación de <a href=\"https://es.m.wikipedia.org/wiki/Ecuaci%C3%B3n_de_Van_der_Waals#:~:text=La%20ecuaci%C3%B3n%20de%20Van%20der,fuerzas%20de%20Van%20der%20Waals.\">  Van der Waals</a> es una ecuación de estado para gases que trata de corregir dos aproximaciones de la ecuación de estado del gas ideal: (i) el tamaño de las partículas y (ii) la interacción entre las mismas. La ecuación de Van der Waals se define como:\n",
        "\n",
        "$(\\small P+\\frac{n^2a}{V^2})(V-nb)=nRT$ \n",
        "\n",
        "Donde $\\small a$ y $\\small b$ son constantes específicas para cada gas y R es la constante de los gases.\n",
        "\n",
        "$\\small a=(\\frac{27}{64})\\frac{T_{c}^{2}R^{2}}{P_{c}}$\n",
        "\n",
        "$\\small b=(\\frac{1}{8})\\frac{RT_{c}}{P_{c}}$ \n",
        " \n",
        "Donde $\\small (T_{c})$ y $(\\small P_{c})$ corresponden a la temperatura y presión crítica del gas. Ahora deberás comparar el diagrama $\\small P vs \\bar{V}$ para un mol de metano utilizando la ecuación de Vander Waals a los siguientes valores de temperatura $\\small (0.1T_{c},0.25T_{c},0.5T_{c},0.75T_{c},T_{c},2T_{c})$. "
      ]
    },
    {
      "cell_type": "code",
      "metadata": {
        "id": "tHbpWxWqO1ai"
      },
      "source": [
        "import math\n",
        "import numpy as np\n",
        "import matplotlib.pyplot as plt\n",
        "\n",
        "R=8.314                      #Constante de los gases\n",
        "Tc=190.4                     #Temperatura Critica metano (K)\n",
        "Pc=4.6e6                     #Temperatura Critica metano (Pa)\n",
        "a=(27/64)*Tc**2*R**2/Pc      #constante (a) Ec. Van der Waals\n",
        "b=(Tc*R)/(Pc*8)              #constante (a) Ec. Van der Waals\n",
        "\n",
        "def Pvw(T,Vm):               #Ec. Van der Waals\n",
        "    Pvw=R*T/(Vm-b)- a/(Vm**2)\n",
        "    return Pvw"
      ],
      "execution_count": null,
      "outputs": []
    },
    {
      "cell_type": "code",
      "metadata": {
        "id": "WA0M6V6LelrA",
        "outputId": "0cdd6c56-d501-497b-8685-619e666315e0",
        "colab": {
          "base_uri": "https://localhost:8080/",
          "height": 306
        }
      },
      "source": [
        "fig = plt.figure(1)\n",
        "for T in np.array([0.1,0.25,0.5,0.75,1,2])*Tc:                  #definimos el vector para los valores de Temperatura establecidos\n",
        "    Vm=np.logspace(np.log10(b*1.01),2+np.log10(R*Tc/Pc),100)    #utilizamos escala logarítmica para representar los diferentes ordenes de magnitud\n",
        "    plt.semilogx(Vm,Pvw(T,Vm), label=str(T)+\"K\")                #definimos los paramétros de la grafica\n",
        "    plt.title(\"Isotermas de Van der Waals - Metano\")            #Titulo\n",
        "    plt.ylabel(r\"$ \\bar{P (\\mathrm{Pa})} $\")                    #nombre eje (y)\n",
        "    plt.xlabel(r\"$ \\bar{V (\\mathrm{m^{3}mol^{-1}})} $\")         #nombre eje (x)\n",
        "    plt.ylim(-3*Pc,Pc*3)                                        #rango eje (y)\n",
        "    plt.xlim(b,(100*R*Tc/Pc))                                   #rango eje (x)\n",
        "plt.legend()\n",
        "plt.show()"
      ],
      "execution_count": 3,
      "outputs": [
        {
          "output_type": "display_data",
          "data": {
            "image/png": "[encoded data removed]",
            "text/plain": [
              "<Figure size 432x288 with 1 Axes>"
            ]
          },
          "metadata": {
            "needs_background": "light"
          }
        }
      ]
    },
    {
      "cell_type": "markdown",
      "metadata": {
        "id": "TyWc4MJFgbWZ"
      },
      "source": [
        "La presentación de la ecuación y de la grafica fue adapatado del <a href=\"https://nbviewer.jupyter.org/github/iurisegtovich/PyTherm-applied-thermodynamics/blob/master/contents/main-lectures/2-numpy-matplotlib-vdW-EoS-isotherms.ipynb\">  PyTherm-applied-thermodynamics</a>."
      ]
    },
    {
      "cell_type": "markdown",
      "metadata": {
        "id": "nWn2COSXUCaI"
      },
      "source": [
        "---"
      ]
    }
  ]
}